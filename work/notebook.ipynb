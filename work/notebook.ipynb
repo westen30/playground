{
 "cells": [
  {
   "cell_type": "code",
   "execution_count": 1,
   "metadata": {
    "_cell_guid": "62944dc0-9a44-4e91-a822-ca37c3db8be5",
    "_uuid": "c8231aabe575536ed0207c6086c522195321a2f5"
   },
   "outputs": [
    {
     "name": "stderr",
     "output_type": "stream",
     "text": [
      "Using TensorFlow backend.\n",
      "/opt/conda/lib/python3.6/importlib/_bootstrap.py:219: RuntimeWarning: compiletime version 3.5 of module 'tensorflow.python.framework.fast_tensor_util' does not match runtime version 3.6\n",
      "  return f(*args, **kwds)\n"
     ]
    },
    {
     "name": "stdout",
     "output_type": "stream",
     "text": [
      "test\n",
      "train\n",
      "\n"
     ]
    }
   ],
   "source": [
    "# This Python 3 environment comes with many helpful analytics libraries installed\n",
    "# It is defined by the kaggle/python docker image: https://github.com/kaggle/docker-python\n",
    "# For example, here's several helpful packages to load in \n",
    "\n",
    "import numpy as np # linear algebra\n",
    "import pandas as pd # data processing, CSV file I/O (e.g. pd.read_csv)\n",
    "import glob\n",
    "import os\n",
    "from keras.preprocessing.image import ImageDataGenerator\n",
    "from keras.applications import resnet50\n",
    "from keras.models import Sequential, Model\n",
    "from keras.layers import Conv2D, MaxPooling2D\n",
    "from keras.layers import Activation, Dropout, Flatten, Dense\n",
    "from PIL import Image, ImageOps\n",
    "from scipy.misc import imresize\n",
    "from sklearn.model_selection import train_test_split\n",
    "from sklearn.preprocessing import LabelBinarizer, LabelEncoder\n",
    "\n",
    "# Input data files are available in the \"../input/\" directory.\n",
    "# For example, running this (by clicking run or pressing Shift+Enter) will list the files in the input directory\n",
    "\n",
    "from subprocess import check_output\n",
    "print(check_output([\"ls\", \"../input\"]).decode(\"utf8\"))\n",
    "\n",
    "# Any results you write to the current directory are saved as output."
   ]
  },
  {
   "cell_type": "code",
   "execution_count": 2,
   "metadata": {
    "_cell_guid": "490379da-ebd6-4772-ab40-e00acb5adf01",
    "_uuid": "4fcfae512bf3cf8432d6a018e5db22d2d75b3911"
   },
   "outputs": [],
   "source": [
    "train_data_dir = '../input/train'\n",
    "test_data_dir = '../input/test'"
   ]
  },
  {
   "cell_type": "code",
   "execution_count": 3,
   "metadata": {
    "_cell_guid": "bf12b1ce-b051-4429-a98d-87f90434f379",
    "_uuid": "922a6bc7cb72b15e33d05c273c74f1e8b5bf57da"
   },
   "outputs": [],
   "source": [
    "z = glob.glob(train_data_dir + '/*/*.png')\n",
    "ori_label = []\n",
    "ori_imgs = []\n",
    "for fn in z:\n",
    "    if fn[-3:] != 'png':\n",
    "        continue\n",
    "    ori_label.append(fn.split('/')[-2])\n",
    "    new_img = Image.open(fn)\n",
    "    ori_imgs.append(ImageOps.fit(new_img, (224, 224), Image.ANTIALIAS).convert('RGB'))\n"
   ]
  },
  {
   "cell_type": "code",
   "execution_count": 4,
   "metadata": {
    "_cell_guid": "d141a33b-9b4b-41f9-8d13-40d1efc19b6f",
    "_uuid": "66ca43bcf98c092e563fdde91f1b2354f8049e76"
   },
   "outputs": [],
   "source": [
    "z = glob.glob(test_data_dir + '/*.png')\n",
    "ori_test_names = []\n",
    "ori_test_imgs = []\n",
    "for fn in z:\n",
    "    if fn[-3:] != 'png':\n",
    "        continue\n",
    "    ori_test_names.append(fn.split('/')[-1])\n",
    "    new_img = Image.open(fn)\n",
    "    ori_test_imgs.append(ImageOps.fit(new_img, (224, 224), Image.ANTIALIAS).convert('RGB'))"
   ]
  },
  {
   "cell_type": "code",
   "execution_count": 5,
   "metadata": {
    "_cell_guid": "ef0a35aa-9262-46b7-9e7b-df424a4ee11e",
    "_uuid": "871a297e22ec199796760f3b30c66d9f83f8965f"
   },
   "outputs": [],
   "source": [
    "test_imgs = np.array([np.array(im) for im in ori_test_imgs])"
   ]
  },
  {
   "cell_type": "code",
   "execution_count": 6,
   "metadata": {
    "_cell_guid": "b73e014d-09e6-4b2b-863a-cf9dbf40d843",
    "_uuid": "0e63e27c8635204dc3888c77aa3714d4a63a1231"
   },
   "outputs": [],
   "source": [
    "test_imgs = test_imgs.reshape(test_imgs.shape[0], 224, 224, 3) / 255"
   ]
  },
  {
   "cell_type": "code",
   "execution_count": 7,
   "metadata": {
    "_cell_guid": "4bb27595-6643-41d4-b9d8-163777030930",
    "_uuid": "71aa95154bacafdf7169eb25ed5ea86cb31bb7f5"
   },
   "outputs": [
    {
     "data": {
      "text/plain": [
       "(<PIL.Image.Image image mode=RGB size=224x224 at 0x7FA632B2A128>,\n",
       " 'Black-grass')"
      ]
     },
     "execution_count": 7,
     "metadata": {},
     "output_type": "execute_result"
    }
   ],
   "source": [
    "ori_imgs[0], ori_label[0]"
   ]
  },
  {
   "cell_type": "code",
   "execution_count": null,
   "metadata": {
    "_cell_guid": "6475fd52-e786-47ec-93f5-ce6466343c8b",
    "_uuid": "ec6d9670aafb227e3491b5882c48aa3c00efc9d1"
   },
   "outputs": [],
   "source": [
    "imgs = np.array([np.array(im) for im in ori_imgs])\n",
    "imgs.shape"
   ]
  },
  {
   "cell_type": "code",
   "execution_count": 9,
   "metadata": {
    "_cell_guid": "000db802-6a2b-4909-9d1c-4e9d48470f1e",
    "_uuid": "056c7cdc99aab2536be85cf01cc96011e95c4223"
   },
   "outputs": [
    {
     "data": {
      "text/plain": [
       "(4750, 224, 224, 3)"
      ]
     },
     "execution_count": 9,
     "metadata": {},
     "output_type": "execute_result"
    }
   ],
   "source": [
    "imgs = imgs.reshape(imgs.shape[0], 224, 224, 3) / 255\n",
    "imgs.shape"
   ]
  },
  {
   "cell_type": "code",
   "execution_count": 10,
   "metadata": {
    "_cell_guid": "d883e797-fae1-437c-84a3-d0c3485ef49a",
    "_uuid": "1cd0650931a05ea60ab49f054b088d9ae3381065",
    "collapsed": true
   },
   "outputs": [],
   "source": [
    "lb = LabelBinarizer().fit(ori_label)\n",
    "label = lb.transform(ori_label) "
   ]
  },
  {
   "cell_type": "code",
   "execution_count": 11,
   "metadata": {
    "_cell_guid": "9f03eb61-8344-4ac9-9e0e-9f1438ab812d",
    "_uuid": "2aab5d8e683d98daca6a774ca968579f24dcb1cf",
    "collapsed": true
   },
   "outputs": [],
   "source": [
    "trainX, validX, trainY, validY = train_test_split(imgs, label, test_size=0.05, random_state=42)"
   ]
  },
  {
   "cell_type": "code",
   "execution_count": 12,
   "metadata": {
    "_cell_guid": "28017952-8e72-4da7-b3e8-c87b67502a5c",
    "_uuid": "542fa1b0fd7339278c23e91858d23649dbdf49b3",
    "collapsed": true
   },
   "outputs": [],
   "source": [
    "uni_labs = np.unique(ori_label, return_counts=True)"
   ]
  },
  {
   "cell_type": "code",
   "execution_count": null,
   "metadata": {
    "_cell_guid": "08002604-32ab-4a76-88af-568247469681",
    "_uuid": "ee689d590dcc6005f64cda0ea4b7402dfc79fff7",
    "collapsed": true
   },
   "outputs": [],
   "source": [
    "img_width, img_height = 224, 224"
   ]
  },
  {
   "cell_type": "code",
   "execution_count": null,
   "metadata": {
    "_uuid": "1fae98f77db81a1455e69260f9bbb8b0a2977fb7",
    "collapsed": true
   },
   "outputs": [],
   "source": [
    "datagen = ImageDataGenerator(\n",
    "    featurewise_center=True,\n",
    "    featurewise_std_normalization=True,\n",
    "    rotation_range=20,\n",
    "    width_shift_range=0.2,\n",
    "    height_shift_range=0.2,\n",
    "    horizontal_flip=True)\n",
    "\n",
    "datagen.fit(trainX)"
   ]
  },
  {
   "cell_type": "code",
   "execution_count": null,
   "metadata": {
    "_cell_guid": "4ae76956-d1c4-40f3-9570-fc1c9125090b",
    "_uuid": "5957652c294d2077e97db1aa57f60ba07e02e425",
    "collapsed": true
   },
   "outputs": [],
   "source": [
    "!cp ../input/resnet50/resnet* ~/.keras/models/"
   ]
  },
  {
   "cell_type": "code",
   "execution_count": null,
   "metadata": {
    "_uuid": "6ed8c80aac950b55ce6a2aeb26824640a40c184d",
    "collapsed": true
   },
   "outputs": [],
   "source": [
    "base_model = resnet50.ResNet50(include_top=False, weights='imagenet', input_tensor=None, input_shape=(224, 224, 3), pooling='avg', classes=12)"
   ]
  },
  {
   "cell_type": "code",
   "execution_count": null,
   "metadata": {
    "_cell_guid": "0423f245-ac14-4eae-a6e6-edd3ad8c41ca",
    "_uuid": "be866d33cae7640e7e2f16aeab7244f6eac90be7",
    "collapsed": true
   },
   "outputs": [],
   "source": [
    "add_model = Sequential()\n",
    "add_model.add(Flatten(input_shape=(224, 224, 3)))\n",
    "#inputShape = (224, 224, 3)\n",
    "#model.add(Conv2D(20, (5, 5), padding=\"same\", input_shape=inputShape))\n",
    "#model.add(Activation(\"relu\"))\n",
    "#model.add(MaxPooling2D(pool_size=(2, 2), strides=(2, 2)))\n",
    "\n",
    "#model.add(Conv2D(50, (5, 5), padding=\"same\"))\n",
    "#model.add(Activation(\"relu\"))\n",
    "#model.add(MaxPooling2D(pool_size=(2, 2), strides=(2, 2)))\n",
    "\n",
    "#model.add(Flatten())\n",
    "add_model.add(Dense(256))\n",
    "add_model.add(Activation(\"relu\"))\n",
    "\n",
    "add_model.add(Dense(12))\n",
    "add_model.add(Activation(\"softmax\"))\n",
    "\n",
    "model = Model(inputs=base_model.input, outputs=add_model(base_model.output))\n",
    "model.compile(loss='categorical_crossentropy',\n",
    "             optimizer='Adam',\n",
    "             metrics=['accuracy'])\n",
    "\n",
    "#m = model.fit_generator(datagen.flow(trainX, trainY, batch_size=32), steps_per_epoch=len(trainX) /32, epochs=32)"
   ]
  },
  {
   "cell_type": "code",
   "execution_count": null,
   "metadata": {
    "_uuid": "3e346447bad680eab90f13b62edacbc2dfd4d1b5"
   },
   "outputs": [],
   "source": [
    "m = model.fit_generator(datagen.flow(trainX, trainY, batch_size=32), steps_per_epoch=len(trainX) /32, epochs=32)"
   ]
  },
  {
   "cell_type": "code",
   "execution_count": null,
   "metadata": {
    "_cell_guid": "dc1460d1-9aa5-4196-a2b3-0b26cc32b7c0",
    "_uuid": "950ee4b9a0956c759e93ff31cf3632c7ec05f40c",
    "collapsed": true
   },
   "outputs": [],
   "source": [
    "test = model.fit(imgs, label, validation_split=0.2, epochs=10, batch_size=10)"
   ]
  },
  {
   "cell_type": "code",
   "execution_count": null,
   "metadata": {
    "_cell_guid": "7afb75f1-f0e5-4518-9ade-55b1002d1d40",
    "_uuid": "c8d207f5ad71e878f2759614e8b2033c838b33f0",
    "collapsed": true
   },
   "outputs": [],
   "source": [
    "prediction = test.predict(test_imgs)\n"
   ]
  },
  {
   "cell_type": "code",
   "execution_count": null,
   "metadata": {
    "_cell_guid": "1bb7085a-4b7b-488a-9c76-7a735391f0f4",
    "_uuid": "c5e9ee47edadf526273c9063ffef6c96234be218",
    "collapsed": true
   },
   "outputs": [],
   "source": [
    "prediction.shape"
   ]
  },
  {
   "cell_type": "code",
   "execution_count": null,
   "metadata": {
    "_cell_guid": "1aea777d-6611-4e5d-9ed1-a818c72bda3d",
    "_uuid": "1a627c7a90bc460a4c0c2a8136f0fc5400ebdde3",
    "collapsed": true
   },
   "outputs": [],
   "source": [
    "prediction"
   ]
  },
  {
   "cell_type": "code",
   "execution_count": null,
   "metadata": {
    "_cell_guid": "590f17c9-44df-4aff-b12f-ffee40048c1c",
    "_uuid": "95cc02e65d7cc700f6e2e2c10d89c75671643a2c",
    "collapsed": true
   },
   "outputs": [],
   "source": [
    "predicition2 = model.predict_classes(test_imgs)"
   ]
  },
  {
   "cell_type": "code",
   "execution_count": null,
   "metadata": {
    "_cell_guid": "ea41202d-5a2e-4879-89fa-96dbcb87bc2f",
    "_uuid": "da52c1640e604becf000bf9fdc40ec786b71ed56",
    "collapsed": true
   },
   "outputs": [],
   "source": [
    "counter = 0\n",
    "test = uni_labs[0]\n",
    "result = pd.DataFrame(columns=['file', 'species'])\n",
    "for i in ori_test_names:\n",
    "    pred = predicition2[counter]\n",
    "    result = result.append({'file': i, 'species': test[pred]}, ignore_index=True)\n",
    "    counter = counter + 1\n",
    "    \n",
    "result.to_csv('submission.csv', index=False)\n",
    "\n",
    "#pred = predicition2[0]\n",
    "#test = uni_labs[0]\n",
    "#test[pred]\n",
    "#lab = lb.inverse_transform([1])"
   ]
  },
  {
   "cell_type": "code",
   "execution_count": null,
   "metadata": {
    "_cell_guid": "80ef12f3-0aaa-47ce-9cc0-3d1c0929bb50",
    "_uuid": "f549916c6ebc3cb74c46a0dbd10c93d612907f6c",
    "collapsed": true
   },
   "outputs": [],
   "source": []
  }
 ],
 "metadata": {
  "kernelspec": {
   "display_name": "Python 3",
   "language": "python",
   "name": "python3"
  },
  "language_info": {
   "codemirror_mode": {
    "name": "ipython",
    "version": 3
   },
   "file_extension": ".py",
   "mimetype": "text/x-python",
   "name": "python",
   "nbconvert_exporter": "python",
   "pygments_lexer": "ipython3",
   "version": "3.6.3"
  }
 },
 "nbformat": 4,
 "nbformat_minor": 1
}
